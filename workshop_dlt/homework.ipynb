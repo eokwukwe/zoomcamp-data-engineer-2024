{
  "cells": [
    {
      "cell_type": "markdown",
      "metadata": {
        "id": "mrTFv5nPClXh"
      },
      "source": [
        "# **Homework**: Data talks club data engineering zoomcamp Data loading workshop\n",
        "\n",
        "Hello folks, let's practice what we learned - Loading data with the best practices of data engineering.\n",
        "\n",
        "Here are the exercises we will do\n"
      ]
    },
    {
      "cell_type": "code",
      "execution_count": 1,
      "metadata": {},
      "outputs": [],
      "source": [
        "import dlt\n",
        "import duckdb"
      ]
    },
    {
      "cell_type": "markdown",
      "metadata": {
        "id": "wLF4iXf-NR7t"
      },
      "source": [
        "# 1. Use a generator\n",
        "\n",
        "Remember the concept of generator? Let's practice using them to futher our understanding of how they work.\n",
        "\n",
        "Let's define a generator and then run it as practice.\n",
        "\n",
        "**Answer the following questions:**\n",
        "\n",
        "- **Question 1: What is the sum of the outputs of the generator for limit = 5?**\n",
        "- **Question 2: What is the 13th number yielded**\n",
        "\n",
        "I suggest practicing these questions without GPT as the purpose is to further your learning.\n"
      ]
    },
    {
      "cell_type": "code",
      "execution_count": 2,
      "metadata": {
        "colab": {
          "base_uri": "https://localhost:8080/"
        },
        "id": "wLng-bDJN4jf",
        "outputId": "547683cb-5f56-4815-a903-d0d9578eb1f9"
      },
      "outputs": [],
      "source": [
        "def square_root_generator(limit):\n",
        "    n = 1\n",
        "    while n <= limit:\n",
        "        yield n ** 0.5\n",
        "        n += 1"
      ]
    },
    {
      "cell_type": "code",
      "execution_count": 3,
      "metadata": {},
      "outputs": [
        {
          "name": "stdout",
          "output_type": "stream",
          "text": [
            "Sum of the outputs of the generator for limit = 5:  8.382332347441762\n"
          ]
        }
      ],
      "source": [
        "# Example usage:\n",
        "limit = 5\n",
        "generator = square_root_generator(limit)\n",
        "\n",
        "output_sum = 0\n",
        "\n",
        "for sqrt_value in generator:\n",
        "    output_sum += sqrt_value\n",
        "\n",
        "print(\"Sum of the outputs of the generator for limit = 5: \", output_sum)"
      ]
    },
    {
      "cell_type": "code",
      "execution_count": 4,
      "metadata": {},
      "outputs": [
        {
          "name": "stdout",
          "output_type": "stream",
          "text": [
            "13th number yielded by the generator:  3.605551275463989\n"
          ]
        }
      ],
      "source": [
        "# Example usage:\n",
        "limit = 15\n",
        "generator = square_root_generator(limit)\n",
        "\n",
        "output = [sqrt_value for sqrt_value in square_root_generator(limit)]\n",
        "\n",
        "\n",
        "print(\"13th number yielded by the generator: \", output[12])"
      ]
    },
    {
      "cell_type": "markdown",
      "metadata": {
        "id": "vjWhILzGJMpK"
      },
      "source": [
        "# 2. Append a generator to a table with existing data\n",
        "\n",
        "Below you have 2 generators. You will be tasked to load them to duckdb and answer some questions from the data\n",
        "\n",
        "1. Load the first generator and calculate the sum of ages of all people. Make sure to only load it once.\n",
        "2. Append the second generator to the same table as the first.\n",
        "3. **After correctly appending the data, calculate the sum of all ages of people.**\n"
      ]
    },
    {
      "cell_type": "code",
      "execution_count": 5,
      "metadata": {
        "colab": {
          "base_uri": "https://localhost:8080/"
        },
        "id": "2MoaQcdLBEk6",
        "outputId": "d2b93dc1-d83f-44ea-aeff-fdf51d75f7aa"
      },
      "outputs": [
        {
          "name": "stdout",
          "output_type": "stream",
          "text": [
            "{'ID': 1, 'Name': 'Person_1', 'Age': 26, 'City': 'City_A'}\n",
            "{'ID': 2, 'Name': 'Person_2', 'Age': 27, 'City': 'City_A'}\n",
            "{'ID': 3, 'Name': 'Person_3', 'Age': 28, 'City': 'City_A'}\n",
            "{'ID': 4, 'Name': 'Person_4', 'Age': 29, 'City': 'City_A'}\n",
            "{'ID': 5, 'Name': 'Person_5', 'Age': 30, 'City': 'City_A'}\n",
            "{'ID': 3, 'Name': 'Person_3', 'Age': 33, 'City': 'City_B', 'Occupation': 'Job_3'}\n",
            "{'ID': 4, 'Name': 'Person_4', 'Age': 34, 'City': 'City_B', 'Occupation': 'Job_4'}\n",
            "{'ID': 5, 'Name': 'Person_5', 'Age': 35, 'City': 'City_B', 'Occupation': 'Job_5'}\n",
            "{'ID': 6, 'Name': 'Person_6', 'Age': 36, 'City': 'City_B', 'Occupation': 'Job_6'}\n",
            "{'ID': 7, 'Name': 'Person_7', 'Age': 37, 'City': 'City_B', 'Occupation': 'Job_7'}\n",
            "{'ID': 8, 'Name': 'Person_8', 'Age': 38, 'City': 'City_B', 'Occupation': 'Job_8'}\n"
          ]
        }
      ],
      "source": [
        "def people_1():\n",
        "    for i in range(1, 6):\n",
        "        yield {\"ID\": i, \"Name\": f\"Person_{i}\", \"Age\": 25 + i, \"City\": \"City_A\"}\n",
        "\n",
        "\n",
        "for person in people_1():\n",
        "    print(person)\n",
        "\n",
        "\n",
        "def people_2():\n",
        "    for i in range(3, 9):\n",
        "        yield {\"ID\": i, \"Name\": f\"Person_{i}\", \"Age\": 30 + i, \"City\": \"City_B\", \"Occupation\": f\"Job_{i}\"}\n",
        "\n",
        "\n",
        "for person in people_2():\n",
        "    print(person)"
      ]
    },
    {
      "cell_type": "code",
      "execution_count": 6,
      "metadata": {},
      "outputs": [],
      "source": [
        "people_1_data = [person for person in people_1()]\n",
        "people_2_data = [person for person in people_2()]"
      ]
    },
    {
      "cell_type": "code",
      "execution_count": 7,
      "metadata": {},
      "outputs": [
        {
          "name": "stdout",
          "output_type": "stream",
          "text": [
            "Pipeline peoples_pipeline load step completed in 0.50 seconds\n",
            "1 load package(s) were loaded to destination duckdb and into dataset peoples_data\n",
            "The duckdb destination used duckdb:////workspaces/zoomcamp-data-engineer-2024/workshop_dlt/peoples_pipeline.duckdb location to store data\n",
            "Load package 1707892130.9910827 is LOADED and contains no failed jobs\n"
          ]
        }
      ],
      "source": [
        "pipeline = dlt.pipeline(\n",
        "    dataset_name='peoples_data',\n",
        "    pipeline_name='peoples_pipeline',\n",
        "    destination='duckdb'\n",
        ")\n",
        "\n",
        "# load data from people_1_data\n",
        "load_data_info = pipeline.run(\n",
        "    data=people_1_data,\n",
        "    table_name='peoples'\n",
        ")\n",
        "\n",
        "print(load_data_info)"
      ]
    },
    {
      "cell_type": "code",
      "execution_count": 8,
      "metadata": {},
      "outputs": [
        {
          "name": "stdout",
          "output_type": "stream",
          "text": [
            "Pipeline peoples_pipeline load step completed in 0.39 seconds\n",
            "1 load package(s) were loaded to destination duckdb and into dataset peoples_data\n",
            "The duckdb destination used duckdb:////workspaces/zoomcamp-data-engineer-2024/workshop_dlt/peoples_pipeline.duckdb location to store data\n",
            "Load package 1707892138.56721 is LOADED and contains no failed jobs\n"
          ]
        }
      ],
      "source": [
        "# Append data from people_2_data\n",
        "append_data_info = pipeline.run(\n",
        "    data=people_2_data,\n",
        "    table_name='peoples',\n",
        "    write_disposition='append'\n",
        ")\n",
        "\n",
        "print(append_data_info)"
      ]
    },
    {
      "cell_type": "code",
      "execution_count": 13,
      "metadata": {},
      "outputs": [
        {
          "data": {
            "text/html": [
              "<div>\n",
              "<style scoped>\n",
              "    .dataframe tbody tr th:only-of-type {\n",
              "        vertical-align: middle;\n",
              "    }\n",
              "\n",
              "    .dataframe tbody tr th {\n",
              "        vertical-align: top;\n",
              "    }\n",
              "\n",
              "    .dataframe thead th {\n",
              "        text-align: right;\n",
              "    }\n",
              "</style>\n",
              "<table border=\"1\" class=\"dataframe\">\n",
              "  <thead>\n",
              "    <tr style=\"text-align: right;\">\n",
              "      <th></th>\n",
              "      <th>total_ages</th>\n",
              "    </tr>\n",
              "  </thead>\n",
              "  <tbody>\n",
              "    <tr>\n",
              "      <th>0</th>\n",
              "      <td>353.0</td>\n",
              "    </tr>\n",
              "  </tbody>\n",
              "</table>\n",
              "</div>"
            ],
            "text/plain": [
              "   total_ages\n",
              "0       353.0"
            ]
          },
          "execution_count": 13,
          "metadata": {},
          "output_type": "execute_result"
        }
      ],
      "source": [
        "conn = duckdb.connect(f'{pipeline.pipeline_name}.duckdb')\n",
        "conn.sql(f\"SET search_path = '{pipeline.dataset_name}'\")\n",
        "# display(conn.sql(\"DESCRIBE\"))\n",
        "data_table = conn.sql(\"SELECT * FROM peoples\").df()\n",
        "data_table.head()\n",
        "sum_of_ages = conn.sql('SELECT SUM(age) total_ages FROM peoples').df()\n",
        "sum_of_ages.head()"
      ]
    },
    {
      "cell_type": "markdown",
      "metadata": {
        "id": "pY4cFAWOSwN1"
      },
      "source": [
        "# 3. Merge a generator\n",
        "\n",
        "Re-use the generators from Exercise 2.\n",
        "\n",
        "A table's primary key needs to be created from the start, so load your data to a new table with primary key ID.\n",
        "\n",
        "Load your first generator first, and then load the second one with merge. Since they have overlapping IDs, some of the records from the first load should be replaced by the ones from the second load.\n",
        "\n",
        "After loading, you should have a total of 8 records, and ID 3 should have age 33.\n",
        "\n",
        "Question: **Calculate the sum of ages of all the people loaded as described above.**\n"
      ]
    },
    {
      "cell_type": "code",
      "execution_count": 14,
      "metadata": {},
      "outputs": [
        {
          "name": "stdout",
          "output_type": "stream",
          "text": [
            "Pipeline people_merge_pipeline load step completed in 0.67 seconds\n",
            "1 load package(s) were loaded to destination duckdb and into dataset people_merged_data\n",
            "The duckdb destination used duckdb:////workspaces/zoomcamp-data-engineer-2024/workshop_dlt/people_merge_pipeline.duckdb location to store data\n",
            "Load package 1707892969.428975 is LOADED and contains no failed jobs \n",
            "\n",
            "Pipeline people_merge_pipeline load step completed in 0.86 seconds\n",
            "1 load package(s) were loaded to destination duckdb and into dataset people_merged_data\n",
            "The duckdb destination used duckdb:////workspaces/zoomcamp-data-engineer-2024/workshop_dlt/people_merge_pipeline.duckdb location to store data\n",
            "Load package 1707892970.784673 is LOADED and contains no failed jobs\n"
          ]
        }
      ],
      "source": [
        "pipeline_merge = dlt.pipeline(\n",
        "    dataset_name='people_merged_data',\n",
        "    pipeline_name='people_merge_pipeline',\n",
        "    destination='duckdb'\n",
        ")\n",
        "\n",
        "load_info_1 = pipeline_merge.run(\n",
        "    data=people_1_data,\n",
        "    table_name='peoples'\n",
        ")\n",
        "\n",
        "print(load_info_1, '\\n')\n",
        "\n",
        "load_info_2 = pipeline_merge.run(\n",
        "    data=people_2_data,\n",
        "    table_name='peoples',\n",
        "    write_disposition='merge',\n",
        "    primary_key='ID'\n",
        ")\n",
        "\n",
        "print(load_info_2)"
      ]
    },
    {
      "cell_type": "code",
      "execution_count": 18,
      "metadata": {},
      "outputs": [
        {
          "data": {
            "text/html": [
              "<div>\n",
              "<style scoped>\n",
              "    .dataframe tbody tr th:only-of-type {\n",
              "        vertical-align: middle;\n",
              "    }\n",
              "\n",
              "    .dataframe tbody tr th {\n",
              "        vertical-align: top;\n",
              "    }\n",
              "\n",
              "    .dataframe thead th {\n",
              "        text-align: right;\n",
              "    }\n",
              "</style>\n",
              "<table border=\"1\" class=\"dataframe\">\n",
              "  <thead>\n",
              "    <tr style=\"text-align: right;\">\n",
              "      <th></th>\n",
              "      <th>total_ages</th>\n",
              "    </tr>\n",
              "  </thead>\n",
              "  <tbody>\n",
              "    <tr>\n",
              "      <th>0</th>\n",
              "      <td>266.0</td>\n",
              "    </tr>\n",
              "  </tbody>\n",
              "</table>\n",
              "</div>"
            ],
            "text/plain": [
              "   total_ages\n",
              "0       266.0"
            ]
          },
          "execution_count": 18,
          "metadata": {},
          "output_type": "execute_result"
        }
      ],
      "source": [
        "conn = duckdb.connect(f'{pipeline_merge.pipeline_name}.duckdb')\n",
        "conn.sql(f\"SET search_path = '{pipeline_merge.dataset_name}'\")\n",
        "\n",
        "# all_data = conn.sql('select * from peoples').df()\n",
        "# all_data.head(10)\n",
        "\n",
        "sum_of_age = conn.sql('SELECT SUM(age) total_ages FROM peoples').df()\n",
        "sum_of_age.head()"
      ]
    }
  ],
  "metadata": {
    "colab": {
      "provenance": []
    },
    "kernelspec": {
      "display_name": "Python 3",
      "name": "python3"
    },
    "language_info": {
      "codemirror_mode": {
        "name": "ipython",
        "version": 3
      },
      "file_extension": ".py",
      "mimetype": "text/x-python",
      "name": "python",
      "nbconvert_exporter": "python",
      "pygments_lexer": "ipython3",
      "version": "3.10.13"
    }
  },
  "nbformat": 4,
  "nbformat_minor": 0
}
